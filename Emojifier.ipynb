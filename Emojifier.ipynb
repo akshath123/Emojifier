{
 "cells": [
  {
   "cell_type": "code",
   "execution_count": 25,
   "metadata": {},
   "outputs": [],
   "source": [
    "import emoji\n",
    "from keras.models import Model\n",
    "from keras.layers import Dense, Input, Dropout, LSTM, Activation\n",
    "from keras.layers.embeddings import Embedding\n",
    "from keras.preprocessing import sequence\n",
    "from keras.initializers import glorot_uniform\n",
    "\n",
    "import nltk\n",
    "from nltk import word_tokenize\n",
    "from nltk.corpus import stopwords \n",
    "\n",
    "import csv\n",
    "import matplotlib.pyplot as plt\n",
    "import numpy as np\n",
    "np.random.seed(1)\n",
    "%matplotlib inline"
   ]
  },
  {
   "cell_type": "markdown",
   "metadata": {},
   "source": [
    "### Utility Functions"
   ]
  },
  {
   "cell_type": "code",
   "execution_count": 2,
   "metadata": {
    "collapsed": true
   },
   "outputs": [],
   "source": [
    "def read_csv(filename = \"Data/emojify_data.csv\"):\n",
    "    phrase = []\n",
    "    emoji = []\n",
    "    \n",
    "    with open(filename) as csvDataFile:\n",
    "        csvReader = csv.reader(csvDataFile)\n",
    "    \n",
    "        for row in csvReader:\n",
    "            phrase.append(row[0])\n",
    "            emoji.append(row[1])\n",
    "    \n",
    "    X = np.asarray(phrase)\n",
    "    Y = np.asarray(emoji, dtype = int)\n",
    "    \n",
    "    return X, Y"
   ]
  },
  {
   "cell_type": "code",
   "execution_count": 3,
   "metadata": {
    "collapsed": true
   },
   "outputs": [],
   "source": [
    "def convert_to_one_hot(Y, C):\n",
    "    Y = np.eye(C)[Y.reshape(-1)]\n",
    "    return Y"
   ]
  },
  {
   "cell_type": "code",
   "execution_count": 4,
   "metadata": {
    "collapsed": true
   },
   "outputs": [],
   "source": [
    "emoji_dictionary = {\"0\": \"\\u2764\\uFE0F\",    # :heart: prints a black instead of red heart depending on the font\n",
    "                    \"1\": \":baseball:\",\n",
    "                    \"2\": \":smile:\",\n",
    "                    \"3\": \":disappointed:\",\n",
    "                    \"4\": \":fork_and_knife:\"}\n",
    "\n",
    "def label_to_emoji(label):\n",
    "    return emoji.emojize(emoji_dictionary[str(label)], use_aliases = True)"
   ]
  },
  {
   "cell_type": "code",
   "execution_count": 5,
   "metadata": {
    "collapsed": true
   },
   "outputs": [],
   "source": [
    "def read_glove_vecs(glove_file):\n",
    "    with open(glove_file, 'r', encoding=\"utf8\") as f:\n",
    "        words = set()\n",
    "        word_to_vec_map = {}\n",
    "        for line in f:\n",
    "            line = line.strip().split()\n",
    "            curr_word = line[0]\n",
    "            words.add(curr_word)\n",
    "            word_to_vec_map[curr_word] = np.array(line[1:], dtype=np.float64)\n",
    "        \n",
    "        i = 1\n",
    "        words_to_index = {}\n",
    "        index_to_words = {}\n",
    "        for w in sorted(words):\n",
    "            words_to_index[w] = i\n",
    "            index_to_words[i] = w\n",
    "            i = i + 1\n",
    "    return words_to_index, index_to_words, word_to_vec_map"
   ]
  },
  {
   "cell_type": "markdown",
   "metadata": {},
   "source": [
    "### Reading the Dataset"
   ]
  },
  {
   "cell_type": "code",
   "execution_count": 6,
   "metadata": {
    "collapsed": true
   },
   "outputs": [],
   "source": [
    "X_train, Y_train = read_csv(\"Data/train_emoji.csv\") \n",
    "X_test, Y_test = read_csv(\"Data/tesss.csv\") "
   ]
  },
  {
   "cell_type": "code",
   "execution_count": 7,
   "metadata": {
    "collapsed": true
   },
   "outputs": [],
   "source": [
    "maxLen = len(max(X_train, key = len).split())"
   ]
  },
  {
   "cell_type": "code",
   "execution_count": 8,
   "metadata": {},
   "outputs": [
    {
     "name": "stdout",
     "output_type": "stream",
     "text": [
      "I am proud of your achievements 😄\n"
     ]
    }
   ],
   "source": [
    "index = 1\n",
    "print(X_train[index], label_to_emoji(Y_train[index]))"
   ]
  },
  {
   "cell_type": "code",
   "execution_count": 9,
   "metadata": {
    "collapsed": true
   },
   "outputs": [],
   "source": [
    "# Converting into one hot encoding\n",
    "Y_oh_train = convert_to_one_hot(Y_train, C = 5)\n",
    "Y_oh_test = convert_to_one_hot(Y_test, C = 5)"
   ]
  },
  {
   "cell_type": "code",
   "execution_count": 10,
   "metadata": {
    "collapsed": true
   },
   "outputs": [],
   "source": [
    "word_to_index, index_to_word, word_to_vec_map = read_glove_vecs(\"Data/glove.6B.50d.txt\")"
   ]
  },
  {
   "cell_type": "code",
   "execution_count": 11,
   "metadata": {
    "collapsed": true
   },
   "outputs": [],
   "source": [
    "def sentences_to_indices(X, word_to_index, max_len):\n",
    "    \n",
    "    m = X.shape[0]\n",
    "    \n",
    "    X_indices = np.zeros((m, max_len))\n",
    "    \n",
    "    for i in range(m):\n",
    "        sentence_to_words = [w.lower() for w in X[i].split()]\n",
    "        \n",
    "        j = 0 \n",
    "        \n",
    "        for w in sentence_to_words:\n",
    "            X_indices[i, j] = word_to_index[w]\n",
    "            j = j + 1\n",
    "    return X_indices"
   ]
  },
  {
   "cell_type": "code",
   "execution_count": 12,
   "metadata": {
    "collapsed": true
   },
   "outputs": [],
   "source": [
    "def pretrained_embedding_layer(word_to_vec_map, word_to_index):\n",
    "    \n",
    "    vocab_len = len(word_to_index) + 1\n",
    "    emb_dim = word_to_vec_map[\"cucumber\"].shape[0]\n",
    "    \n",
    "    emb_matrix = np.zeros((vocab_len, emb_dim))\n",
    "    \n",
    "    for word, index in word_to_index.items():\n",
    "        emb_matrix[index, :] = word_to_vec_map[word]\n",
    "        \n",
    "    embedding_layer = Embedding(vocab_len, emb_dim, trainable = False)\n",
    "    \n",
    "    embedding_layer.build((None,))\n",
    "    embedding_layer.set_weights([emb_matrix])\n",
    "    \n",
    "    return embedding_layer"
   ]
  },
  {
   "cell_type": "code",
   "execution_count": 13,
   "metadata": {},
   "outputs": [
    {
     "name": "stdout",
     "output_type": "stream",
     "text": [
      "weights[0][1][3] = -0.3403\n"
     ]
    }
   ],
   "source": [
    "embedding_layer = pretrained_embedding_layer(word_to_vec_map, word_to_index)\n",
    "print(\"weights[0][1][3] =\", embedding_layer.get_weights()[0][1][3])"
   ]
  },
  {
   "cell_type": "code",
   "execution_count": 14,
   "metadata": {
    "collapsed": true
   },
   "outputs": [],
   "source": [
    "def Emojify(input_shape, word_to_vec_map, word_to_index):\n",
    "    \n",
    "    sentence_indices = Input(input_shape, dtype = 'int32')\n",
    "    \n",
    "    embedding_layer = pretrained_embedding_layer(word_to_vec_map, word_to_index)\n",
    "    \n",
    "    embeddings = embedding_layer(sentence_indices)\n",
    "    \n",
    "    X = LSTM(128, return_sequences = True)(embeddings)\n",
    "    X = Dropout(0.6)(X)\n",
    "    X = LSTM(128, return_sequences = False)(X)\n",
    "    X = Dropout(0.6)(X)\n",
    "    X = Dense(5)(X)\n",
    "    X = Activation('softmax')(X)\n",
    "    \n",
    "    model = Model(inputs = sentence_indices, outputs = X)\n",
    "    \n",
    "    return model"
   ]
  },
  {
   "cell_type": "code",
   "execution_count": 15,
   "metadata": {},
   "outputs": [
    {
     "name": "stdout",
     "output_type": "stream",
     "text": [
      "WARNING:tensorflow:From C:\\Users\\Akshath\\AppData\\Local\\Continuum\\Anaconda3\\envs\\py35\\lib\\site-packages\\keras\\backend\\tensorflow_backend.py:1188: calling reduce_sum (from tensorflow.python.ops.math_ops) with keep_dims is deprecated and will be removed in a future version.\n",
      "Instructions for updating:\n",
      "keep_dims is deprecated, use keepdims instead\n",
      "_________________________________________________________________\n",
      "Layer (type)                 Output Shape              Param #   \n",
      "=================================================================\n",
      "input_1 (InputLayer)         (None, 10)                0         \n",
      "_________________________________________________________________\n",
      "embedding_2 (Embedding)      (None, 10, 50)            20000050  \n",
      "_________________________________________________________________\n",
      "lstm_1 (LSTM)                (None, 10, 128)           91648     \n",
      "_________________________________________________________________\n",
      "dropout_1 (Dropout)          (None, 10, 128)           0         \n",
      "_________________________________________________________________\n",
      "lstm_2 (LSTM)                (None, 128)               131584    \n",
      "_________________________________________________________________\n",
      "dropout_2 (Dropout)          (None, 128)               0         \n",
      "_________________________________________________________________\n",
      "dense_1 (Dense)              (None, 5)                 645       \n",
      "_________________________________________________________________\n",
      "activation_1 (Activation)    (None, 5)                 0         \n",
      "=================================================================\n",
      "Total params: 20,223,927\n",
      "Trainable params: 223,877\n",
      "Non-trainable params: 20,000,050\n",
      "_________________________________________________________________\n"
     ]
    }
   ],
   "source": [
    "model = Emojify((maxLen,), word_to_vec_map, word_to_index)\n",
    "model.summary()"
   ]
  },
  {
   "cell_type": "code",
   "execution_count": 16,
   "metadata": {},
   "outputs": [
    {
     "name": "stdout",
     "output_type": "stream",
     "text": [
      "WARNING:tensorflow:From C:\\Users\\Akshath\\AppData\\Local\\Continuum\\Anaconda3\\envs\\py35\\lib\\site-packages\\keras\\backend\\tensorflow_backend.py:1290: calling reduce_mean (from tensorflow.python.ops.math_ops) with keep_dims is deprecated and will be removed in a future version.\n",
      "Instructions for updating:\n",
      "keep_dims is deprecated, use keepdims instead\n"
     ]
    }
   ],
   "source": [
    "model.compile(loss = 'categorical_crossentropy', optimizer = 'adam', metrics = ['accuracy'])"
   ]
  },
  {
   "cell_type": "code",
   "execution_count": 17,
   "metadata": {
    "collapsed": true
   },
   "outputs": [],
   "source": [
    "X_train_indices = sentences_to_indices(X_train, word_to_index, maxLen)\n",
    "Y_train_oh = convert_to_one_hot(Y_train, C = 5)"
   ]
  },
  {
   "cell_type": "code",
   "execution_count": 28,
   "metadata": {
    "collapsed": true
   },
   "outputs": [],
   "source": [
    "epochs_val = 150"
   ]
  },
  {
   "cell_type": "code",
   "execution_count": 29,
   "metadata": {},
   "outputs": [
    {
     "name": "stdout",
     "output_type": "stream",
     "text": [
      "Epoch 1/150\n",
      "132/132 [==============================] - 0s - loss: 0.0754 - acc: 0.9773     \n",
      "Epoch 2/150\n",
      "132/132 [==============================] - 0s - loss: 0.0729 - acc: 0.9848     \n",
      "Epoch 3/150\n",
      "132/132 [==============================] - 0s - loss: 0.2532 - acc: 0.9091     \n",
      "Epoch 4/150\n",
      "132/132 [==============================] - 0s - loss: 0.1626 - acc: 0.9545     \n",
      "Epoch 5/150\n",
      "132/132 [==============================] - 0s - loss: 0.2981 - acc: 0.9015     \n",
      "Epoch 6/150\n",
      "132/132 [==============================] - 0s - loss: 0.0856 - acc: 0.9773     \n",
      "Epoch 7/150\n",
      "132/132 [==============================] - 0s - loss: 0.1612 - acc: 0.9545     \n",
      "Epoch 8/150\n",
      "132/132 [==============================] - 0s - loss: 0.0813 - acc: 0.9848     \n",
      "Epoch 9/150\n",
      "132/132 [==============================] - 0s - loss: 0.0814 - acc: 0.9848     \n",
      "Epoch 10/150\n",
      "132/132 [==============================] - 0s - loss: 0.0598 - acc: 0.9924     \n",
      "Epoch 11/150\n",
      "132/132 [==============================] - 0s - loss: 0.0489 - acc: 0.9924     \n",
      "Epoch 12/150\n",
      "132/132 [==============================] - 0s - loss: 0.0372 - acc: 1.0000     \n",
      "Epoch 13/150\n",
      "132/132 [==============================] - 0s - loss: 0.0411 - acc: 0.9924     \n",
      "Epoch 14/150\n",
      "132/132 [==============================] - 0s - loss: 0.0509 - acc: 0.9848     \n",
      "Epoch 15/150\n",
      "132/132 [==============================] - 0s - loss: 0.0414 - acc: 0.9924     \n",
      "Epoch 16/150\n",
      "132/132 [==============================] - 0s - loss: 0.0504 - acc: 0.9773     \n",
      "Epoch 17/150\n",
      "132/132 [==============================] - 0s - loss: 0.0466 - acc: 0.9848     \n",
      "Epoch 18/150\n",
      "132/132 [==============================] - 0s - loss: 0.0408 - acc: 0.9848     \n",
      "Epoch 19/150\n",
      "132/132 [==============================] - 0s - loss: 0.0426 - acc: 0.9848     \n",
      "Epoch 20/150\n",
      "132/132 [==============================] - 0s - loss: 0.0662 - acc: 0.9773     \n",
      "Epoch 21/150\n",
      "132/132 [==============================] - 0s - loss: 0.0217 - acc: 0.9924     \n",
      "Epoch 22/150\n",
      "132/132 [==============================] - 0s - loss: 0.0303 - acc: 0.9848     \n",
      "Epoch 23/150\n",
      "132/132 [==============================] - 0s - loss: 0.0170 - acc: 0.9924     \n",
      "Epoch 24/150\n",
      "132/132 [==============================] - 0s - loss: 0.0208 - acc: 1.0000     \n",
      "Epoch 25/150\n",
      "132/132 [==============================] - 0s - loss: 0.0118 - acc: 1.0000     \n",
      "Epoch 26/150\n",
      "132/132 [==============================] - 0s - loss: 0.0089 - acc: 1.0000     \n",
      "Epoch 27/150\n",
      "132/132 [==============================] - 0s - loss: 0.0104 - acc: 1.0000     \n",
      "Epoch 28/150\n",
      "132/132 [==============================] - 0s - loss: 0.0140 - acc: 1.0000     \n",
      "Epoch 29/150\n",
      "132/132 [==============================] - 0s - loss: 0.0086 - acc: 1.0000     \n",
      "Epoch 30/150\n",
      "132/132 [==============================] - 0s - loss: 0.0101 - acc: 1.0000     \n",
      "Epoch 31/150\n",
      "132/132 [==============================] - 0s - loss: 0.0077 - acc: 1.0000     \n",
      "Epoch 32/150\n",
      "132/132 [==============================] - 0s - loss: 0.0045 - acc: 1.0000     \n",
      "Epoch 33/150\n",
      "132/132 [==============================] - 0s - loss: 0.0041 - acc: 1.0000     \n",
      "Epoch 34/150\n",
      "132/132 [==============================] - 0s - loss: 0.0037 - acc: 1.0000     \n",
      "Epoch 35/150\n",
      "132/132 [==============================] - 0s - loss: 0.0057 - acc: 1.0000     \n",
      "Epoch 36/150\n",
      "132/132 [==============================] - 0s - loss: 0.0057 - acc: 1.0000     \n",
      "Epoch 37/150\n",
      "132/132 [==============================] - 0s - loss: 0.0043 - acc: 1.0000     \n",
      "Epoch 38/150\n",
      "132/132 [==============================] - 0s - loss: 0.0036 - acc: 1.0000     \n",
      "Epoch 39/150\n",
      "132/132 [==============================] - 0s - loss: 0.0057 - acc: 1.0000     \n",
      "Epoch 40/150\n",
      "132/132 [==============================] - 0s - loss: 0.0027 - acc: 1.0000     \n",
      "Epoch 41/150\n",
      "132/132 [==============================] - 0s - loss: 0.0028 - acc: 1.0000     \n",
      "Epoch 42/150\n",
      "132/132 [==============================] - 0s - loss: 0.0021 - acc: 1.0000     \n",
      "Epoch 43/150\n",
      "132/132 [==============================] - 0s - loss: 0.0023 - acc: 1.0000     \n",
      "Epoch 44/150\n",
      "132/132 [==============================] - 0s - loss: 0.0032 - acc: 1.0000     \n",
      "Epoch 45/150\n",
      "132/132 [==============================] - 0s - loss: 0.0026 - acc: 1.0000     \n",
      "Epoch 46/150\n",
      "132/132 [==============================] - 0s - loss: 0.0033 - acc: 1.0000     \n",
      "Epoch 47/150\n",
      "132/132 [==============================] - 0s - loss: 0.0025 - acc: 1.0000     \n",
      "Epoch 48/150\n",
      "132/132 [==============================] - 0s - loss: 0.0038 - acc: 1.0000     \n",
      "Epoch 49/150\n",
      "132/132 [==============================] - 0s - loss: 0.0026 - acc: 1.0000     \n",
      "Epoch 50/150\n",
      "132/132 [==============================] - 0s - loss: 0.0031 - acc: 1.0000     \n",
      "Epoch 51/150\n",
      "132/132 [==============================] - 0s - loss: 0.0039 - acc: 1.0000     \n",
      "Epoch 52/150\n",
      "132/132 [==============================] - 0s - loss: 0.0022 - acc: 1.0000     \n",
      "Epoch 53/150\n",
      "132/132 [==============================] - 0s - loss: 0.0022 - acc: 1.0000     \n",
      "Epoch 54/150\n",
      "132/132 [==============================] - 0s - loss: 0.0016 - acc: 1.0000       \n",
      "Epoch 55/150\n",
      "132/132 [==============================] - 0s - loss: 0.0014 - acc: 1.0000     \n",
      "Epoch 56/150\n",
      "132/132 [==============================] - 0s - loss: 0.0015 - acc: 1.0000       \n",
      "Epoch 57/150\n",
      "132/132 [==============================] - 0s - loss: 0.0027 - acc: 1.0000     \n",
      "Epoch 58/150\n",
      "132/132 [==============================] - 0s - loss: 0.0018 - acc: 1.0000     \n",
      "Epoch 59/150\n",
      "132/132 [==============================] - 0s - loss: 0.0017 - acc: 1.0000      \n",
      "Epoch 60/150\n",
      "132/132 [==============================] - 0s - loss: 0.0016 - acc: 1.0000     \n",
      "Epoch 61/150\n",
      "132/132 [==============================] - 0s - loss: 0.0023 - acc: 1.0000     \n",
      "Epoch 62/150\n",
      "132/132 [==============================] - 0s - loss: 0.0021 - acc: 1.0000     \n",
      "Epoch 63/150\n",
      "132/132 [==============================] - 0s - loss: 0.0014 - acc: 1.0000     \n",
      "Epoch 64/150\n",
      "132/132 [==============================] - 0s - loss: 0.0015 - acc: 1.0000     \n",
      "Epoch 65/150\n",
      "132/132 [==============================] - 0s - loss: 0.0024 - acc: 1.0000     \n",
      "Epoch 66/150\n",
      "132/132 [==============================] - 0s - loss: 0.0019 - acc: 1.0000     \n",
      "Epoch 67/150\n",
      "132/132 [==============================] - 0s - loss: 0.0016 - acc: 1.0000     \n",
      "Epoch 68/150\n",
      "132/132 [==============================] - 0s - loss: 0.0055 - acc: 1.0000     \n",
      "Epoch 69/150\n",
      "132/132 [==============================] - 0s - loss: 0.0012 - acc: 1.0000      \n",
      "Epoch 70/150\n",
      "132/132 [==============================] - 0s - loss: 0.0015 - acc: 1.0000     \n",
      "Epoch 71/150\n",
      "132/132 [==============================] - 0s - loss: 8.2811e-04 - acc: 1.0000     \n",
      "Epoch 72/150\n",
      "132/132 [==============================] - 0s - loss: 0.0013 - acc: 1.0000         \n",
      "Epoch 73/150\n",
      "132/132 [==============================] - 0s - loss: 0.0013 - acc: 1.0000     \n",
      "Epoch 74/150\n",
      "132/132 [==============================] - 0s - loss: 0.0019 - acc: 1.0000       \n",
      "Epoch 75/150\n",
      "132/132 [==============================] - 0s - loss: 0.0017 - acc: 1.0000     \n",
      "Epoch 76/150\n",
      "132/132 [==============================] - 0s - loss: 0.0011 - acc: 1.0000       \n",
      "Epoch 77/150\n",
      "132/132 [==============================] - 0s - loss: 0.0010 - acc: 1.0000     \n",
      "Epoch 78/150\n",
      "132/132 [==============================] - 0s - loss: 8.8920e-04 - acc: 1.0000     \n",
      "Epoch 79/150\n",
      "132/132 [==============================] - 0s - loss: 0.0012 - acc: 1.0000        \n",
      "Epoch 80/150\n",
      "132/132 [==============================] - 0s - loss: 0.0011 - acc: 1.0000     \n",
      "Epoch 81/150\n",
      "132/132 [==============================] - 0s - loss: 9.2841e-04 - acc: 1.0000     \n",
      "Epoch 82/150\n",
      "132/132 [==============================] - 0s - loss: 8.2998e-04 - acc: 1.0000     \n",
      "Epoch 83/150\n",
      "132/132 [==============================] - 0s - loss: 0.0011 - acc: 1.0000       \n",
      "Epoch 84/150\n",
      "132/132 [==============================] - 0s - loss: 8.5653e-04 - acc: 1.0000     \n",
      "Epoch 85/150\n",
      "132/132 [==============================] - 0s - loss: 9.6707e-04 - acc: 1.0000     \n",
      "Epoch 86/150\n",
      "132/132 [==============================] - 0s - loss: 9.1234e-04 - acc: 1.0000     \n",
      "Epoch 87/150\n",
      "132/132 [==============================] - 0s - loss: 7.6894e-04 - acc: 1.0000     \n",
      "Epoch 88/150\n",
      "132/132 [==============================] - 0s - loss: 0.0014 - acc: 1.0000        \n",
      "Epoch 89/150\n",
      "132/132 [==============================] - 0s - loss: 6.4852e-04 - acc: 1.0000     \n",
      "Epoch 90/150\n",
      "132/132 [==============================] - 0s - loss: 7.9951e-04 - acc: 1.0000     \n",
      "Epoch 91/150\n",
      "132/132 [==============================] - 0s - loss: 6.6088e-04 - acc: 1.0000     \n",
      "Epoch 92/150\n",
      "132/132 [==============================] - 0s - loss: 6.1916e-04 - acc: 1.0000     \n",
      "Epoch 93/150\n",
      "132/132 [==============================] - 0s - loss: 0.0014 - acc: 1.0000        \n",
      "Epoch 94/150\n",
      "132/132 [==============================] - 0s - loss: 6.9995e-04 - acc: 1.0000     \n",
      "Epoch 95/150\n",
      "132/132 [==============================] - 0s - loss: 7.9555e-04 - acc: 1.0000     \n",
      "Epoch 96/150\n",
      "132/132 [==============================] - 0s - loss: 0.0016 - acc: 1.0000     \n",
      "Epoch 97/150\n",
      "132/132 [==============================] - 0s - loss: 9.0794e-04 - acc: 1.0000     \n",
      "Epoch 98/150\n",
      "132/132 [==============================] - 0s - loss: 7.0924e-04 - acc: 1.0000     \n",
      "Epoch 99/150\n",
      "132/132 [==============================] - 0s - loss: 0.0010 - acc: 1.0000         \n",
      "Epoch 100/150\n",
      "132/132 [==============================] - 0s - loss: 4.7494e-04 - acc: 1.0000     \n",
      "Epoch 101/150\n",
      "132/132 [==============================] - 0s - loss: 4.7924e-04 - acc: 1.0000     \n",
      "Epoch 102/150\n",
      "132/132 [==============================] - 0s - loss: 7.3559e-04 - acc: 1.0000     \n",
      "Epoch 103/150\n",
      "132/132 [==============================] - 0s - loss: 7.5747e-04 - acc: 1.0000     \n",
      "Epoch 104/150\n",
      "132/132 [==============================] - 0s - loss: 6.3027e-04 - acc: 1.0000     \n",
      "Epoch 105/150\n",
      "132/132 [==============================] - 0s - loss: 0.0011 - acc: 1.0000     \n",
      "Epoch 106/150\n",
      "132/132 [==============================] - 0s - loss: 9.9894e-04 - acc: 1.0000  \n",
      "Epoch 107/150\n",
      "132/132 [==============================] - 0s - loss: 8.2486e-04 - acc: 1.0000     \n",
      "Epoch 108/150\n",
      "132/132 [==============================] - 0s - loss: 7.8118e-04 - acc: 1.0000     \n",
      "Epoch 109/150\n",
      "132/132 [==============================] - 0s - loss: 4.0787e-04 - acc: 1.0000     \n",
      "Epoch 110/150\n",
      "132/132 [==============================] - 0s - loss: 0.0011 - acc: 1.0000        \n",
      "Epoch 111/150\n",
      "132/132 [==============================] - 0s - loss: 0.0011 - acc: 1.0000     \n",
      "Epoch 112/150\n",
      "132/132 [==============================] - 0s - loss: 4.4686e-04 - acc: 1.0000     \n",
      "Epoch 113/150\n",
      "132/132 [==============================] - 0s - loss: 4.8189e-04 - acc: 1.0000     \n",
      "Epoch 114/150\n",
      "132/132 [==============================] - 0s - loss: 5.2782e-04 - acc: 1.0000     \n",
      "Epoch 115/150\n",
      "132/132 [==============================] - 0s - loss: 7.2827e-04 - acc: 1.0000     \n",
      "Epoch 116/150\n",
      "132/132 [==============================] - 0s - loss: 6.8932e-04 - acc: 1.0000     \n",
      "Epoch 117/150\n",
      "132/132 [==============================] - 0s - loss: 5.6201e-04 - acc: 1.0000     \n",
      "Epoch 118/150\n",
      "132/132 [==============================] - 0s - loss: 0.0011 - acc: 1.0000        \n",
      "Epoch 119/150\n",
      "132/132 [==============================] - 0s - loss: 0.0011 - acc: 1.0000        \n",
      "Epoch 120/150\n",
      "132/132 [==============================] - 0s - loss: 5.1245e-04 - acc: 1.0000     \n",
      "Epoch 121/150\n",
      "132/132 [==============================] - 0s - loss: 3.8639e-04 - acc: 1.0000     \n",
      "Epoch 122/150\n",
      "132/132 [==============================] - 0s - loss: 5.1876e-04 - acc: 1.0000     \n",
      "Epoch 123/150\n",
      "132/132 [==============================] - 0s - loss: 8.0521e-04 - acc: 1.0000     \n",
      "Epoch 124/150\n",
      "132/132 [==============================] - 0s - loss: 4.3009e-04 - acc: 1.0000     \n",
      "Epoch 125/150\n",
      "132/132 [==============================] - 0s - loss: 6.5376e-04 - acc: 1.0000     \n",
      "Epoch 126/150\n",
      "132/132 [==============================] - 0s - loss: 0.0038 - acc: 1.0000     \n",
      "Epoch 127/150\n",
      "132/132 [==============================] - 0s - loss: 0.0437 - acc: 0.9924     \n",
      "Epoch 128/150\n",
      "132/132 [==============================] - 0s - loss: 0.4153 - acc: 0.9242        \n",
      "Epoch 129/150\n",
      "132/132 [==============================] - 0s - loss: 0.6333 - acc: 0.8712     \n",
      "Epoch 130/150\n",
      "132/132 [==============================] - 0s - loss: 0.4125 - acc: 0.8561     \n",
      "Epoch 131/150\n",
      "132/132 [==============================] - 0s - loss: 0.1175 - acc: 0.9545     \n",
      "Epoch 132/150\n",
      "132/132 [==============================] - 0s - loss: 0.1475 - acc: 0.9242     \n",
      "Epoch 133/150\n",
      "132/132 [==============================] - 0s - loss: 0.1298 - acc: 0.9773     \n",
      "Epoch 134/150\n",
      "132/132 [==============================] - 0s - loss: 0.0500 - acc: 1.0000     \n",
      "Epoch 135/150\n",
      "132/132 [==============================] - 0s - loss: 0.0488 - acc: 1.0000     \n",
      "Epoch 136/150\n",
      "132/132 [==============================] - 0s - loss: 0.0516 - acc: 0.9848     \n",
      "Epoch 137/150\n",
      "132/132 [==============================] - 0s - loss: 0.0231 - acc: 1.0000     \n",
      "Epoch 138/150\n",
      "132/132 [==============================] - 0s - loss: 0.0264 - acc: 1.0000     \n",
      "Epoch 139/150\n",
      "132/132 [==============================] - 0s - loss: 0.0150 - acc: 1.0000     \n",
      "Epoch 140/150\n",
      "132/132 [==============================] - 0s - loss: 0.0126 - acc: 1.0000     \n",
      "Epoch 141/150\n",
      "132/132 [==============================] - 0s - loss: 0.0097 - acc: 1.0000     \n",
      "Epoch 142/150\n",
      "132/132 [==============================] - 0s - loss: 0.0097 - acc: 1.0000     \n",
      "Epoch 143/150\n",
      "132/132 [==============================] - 0s - loss: 0.0053 - acc: 1.0000     \n",
      "Epoch 144/150\n",
      "132/132 [==============================] - 0s - loss: 0.0073 - acc: 1.0000     \n",
      "Epoch 145/150\n",
      "132/132 [==============================] - 0s - loss: 0.0066 - acc: 1.0000     \n",
      "Epoch 146/150\n",
      "132/132 [==============================] - 0s - loss: 0.0099 - acc: 1.0000     \n",
      "Epoch 147/150\n",
      "132/132 [==============================] - 0s - loss: 0.0027 - acc: 1.0000     \n",
      "Epoch 148/150\n",
      "132/132 [==============================] - 0s - loss: 0.0049 - acc: 1.0000     \n",
      "Epoch 149/150\n",
      "132/132 [==============================] - 0s - loss: 0.0028 - acc: 1.0000     \n",
      "Epoch 150/150\n",
      "132/132 [==============================] - 0s - loss: 0.0044 - acc: 1.0000     \n"
     ]
    }
   ],
   "source": [
    "history = model.fit(X_train_indices, Y_train_oh, epochs = epochs_val, batch_size = 32, shuffle = True)"
   ]
  },
  {
   "cell_type": "code",
   "execution_count": 20,
   "metadata": {},
   "outputs": [
    {
     "name": "stdout",
     "output_type": "stream",
     "text": [
      "32/56 [================>.............] - ETA: 0sTest accuracy =  0.9285714285714286\n"
     ]
    }
   ],
   "source": [
    "X_test_indices = sentences_to_indices(X_test, word_to_index, max_len = maxLen)\n",
    "Y_test_oh = convert_to_one_hot(Y_test, C = 5)\n",
    "loss, acc = model.evaluate(X_test_indices, Y_test_oh)\n",
    "print(\"Test accuracy = \", acc)"
   ]
  },
  {
   "cell_type": "code",
   "execution_count": 32,
   "metadata": {},
   "outputs": [
    {
     "name": "stdout",
     "output_type": "stream",
     "text": [
      "this is not working 😞\n"
     ]
    }
   ],
   "source": [
    "x_test = np.array(['this is not working'])\n",
    "X_test_indices = sentences_to_indices(x_test, word_to_index, maxLen)\n",
    "print(x_test[0] + ' ' + label_to_emoji(np.argmax(model.predict(X_test_indices))))"
   ]
  },
  {
   "cell_type": "markdown",
   "metadata": {
    "collapsed": true
   },
   "source": [
    "### Loss Validation "
   ]
  },
  {
   "cell_type": "code",
   "execution_count": 86,
   "metadata": {},
   "outputs": [
    {
     "name": "stdout",
     "output_type": "stream",
     "text": [
      "dict_keys(['loss', 'acc'])\n"
     ]
    }
   ],
   "source": [
    "print(history.history.keys())"
   ]
  },
  {
   "cell_type": "code",
   "execution_count": 87,
   "metadata": {
    "collapsed": true
   },
   "outputs": [],
   "source": [
    "loss_val = history.history['loss']"
   ]
  },
  {
   "cell_type": "markdown",
   "metadata": {},
   "source": [
    "### Ploting the Loss values"
   ]
  },
  {
   "cell_type": "code",
   "execution_count": 88,
   "metadata": {},
   "outputs": [
    {
     "data": {
      "image/png": "[encoded data removed]",
      "text/plain": [
       "<matplotlib.figure.Figure at 0x1ff7d2058d0>"
      ]
     },
     "metadata": {},
     "output_type": "display_data"
    }
   ],
   "source": [
    "plt.plot(loss_val)\n",
    "plt.xlabel(\"Epoch number\")\n",
    "plt.ylabel(\"Loss value\")\n",
    "plt.title(str(epochs_val) + \" Epoch Loss Idication\")\n",
    "plt.show()"
   ]
  },
  {
   "cell_type": "code",
   "execution_count": null,
   "metadata": {
    "collapsed": true
   },
   "outputs": [],
   "source": []
  }
 ],
 "metadata": {
  "kernelspec": {
   "display_name": "Python 3",
   "language": "python",
   "name": "python3"
  },
  "language_info": {
   "codemirror_mode": {
    "name": "ipython",
    "version": 3
   },
   "file_extension": ".py",
   "mimetype": "text/x-python",
   "name": "python",
   "nbconvert_exporter": "python",
   "pygments_lexer": "ipython3",
   "version": "3.5.6"
  },
  "widgets": {
   "state": {},
   "version": "1.1.2"
  }
 },
 "nbformat": 4,
 "nbformat_minor": 2
}
